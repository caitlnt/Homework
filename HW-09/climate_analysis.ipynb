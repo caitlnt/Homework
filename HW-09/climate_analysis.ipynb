{
 "cells": [
  {
   "cell_type": "code",
   "execution_count": 1,
   "metadata": {
    "collapsed": true
   },
   "outputs": [],
   "source": [
    "#CTa-HW09-Surf's Up\n",
    "#Part 03 - Climate Analysis"
   ]
  },
  {
   "cell_type": "code",
   "execution_count": 2,
   "metadata": {
    "collapsed": true
   },
   "outputs": [],
   "source": [
    "# import libraries to use\n",
    "import pandas as pd\n",
    "import numpy as np\n",
    "import matplotlib.pyplot as plt\n",
    "from matplotlib import dates\n",
    "import datetime\n",
    "import matplotlib.ticker as mticker\n",
    "import seaborn as sns"
   ]
  },
  {
   "cell_type": "code",
   "execution_count": 3,
   "metadata": {
    "collapsed": true
   },
   "outputs": [],
   "source": [
    "# Python SQL toolkit and Object Relational Mapper\n",
    "import sqlalchemy\n",
    "from sqlalchemy.ext.automap import automap_base\n",
    "from sqlalchemy.orm import Session\n",
    "from sqlalchemy import create_engine\n",
    "from sqlalchemy import func, text\n",
    "from sqlalchemy import Column, Integer, String, Float, Date, DateTime"
   ]
  },
  {
   "cell_type": "code",
   "execution_count": 17,
   "metadata": {
    "collapsed": true,
    "scrolled": true
   },
   "outputs": [],
   "source": [
    "# Create engine using the `demographics.sqlite` database file\n",
    "engine = create_engine(\"sqlite:///hawaii.sqlite\")\n",
    "conn = engine.connect()\n",
    "Base.metadata.create_all(conn)"
   ]
  },
  {
   "cell_type": "code",
   "execution_count": 5,
   "metadata": {
    "collapsed": true
   },
   "outputs": [],
   "source": [
    "# Declare a Base using `automap_base()`\n",
    "Base = automap_base()"
   ]
  },
  {
   "cell_type": "code",
   "execution_count": 6,
   "metadata": {
    "collapsed": true
   },
   "outputs": [],
   "source": [
    "# Use the Base class to reflect the database tables\n",
    "Base.prepare(engine, reflect=True)"
   ]
  },
  {
   "cell_type": "code",
   "execution_count": 7,
   "metadata": {},
   "outputs": [
    {
     "data": {
      "text/plain": [
       "['measurement', 'station']"
      ]
     },
     "execution_count": 7,
     "metadata": {},
     "output_type": "execute_result"
    }
   ],
   "source": [
    "# Print all of the classes mapped to the Base\n",
    "Base.classes.keys()"
   ]
  },
  {
   "cell_type": "code",
   "execution_count": 8,
   "metadata": {
    "collapsed": true
   },
   "outputs": [],
   "source": [
    "# Assign the measurement to a variable called `measurement`\n",
    "measurement = Base.classes.measurement"
   ]
  },
  {
   "cell_type": "code",
   "execution_count": 9,
   "metadata": {
    "collapsed": true
   },
   "outputs": [],
   "source": [
    "# Assign the station to a variable called `station`\n",
    "station = Base.classes.station"
   ]
  },
  {
   "cell_type": "code",
   "execution_count": 10,
   "metadata": {
    "collapsed": true
   },
   "outputs": [],
   "source": [
    "# Create a session\n",
    "session = Session(engine)"
   ]
  },
  {
   "cell_type": "code",
   "execution_count": 11,
   "metadata": {},
   "outputs": [
    {
     "data": {
      "text/plain": [
       "[('USC00511918'),\n",
       " ('USC00513117'),\n",
       " ('USC00514830'),\n",
       " ('USC00516128'),\n",
       " ('USC00517948'),\n",
       " ('USC00518838'),\n",
       " ('USC00519281'),\n",
       " ('USC00519397'),\n",
       " ('USC00519523')]"
      ]
     },
     "execution_count": 11,
     "metadata": {},
     "output_type": "execute_result"
    }
   ],
   "source": [
    "# Check SQL Lite to see if there is data in the tables for measurement\n",
    "session.query(measurement.station).group_by(measurement.station).all()"
   ]
  },
  {
   "cell_type": "code",
   "execution_count": 12,
   "metadata": {},
   "outputs": [
    {
     "data": {
      "text/plain": [
       "[('HONOLULU OBSERVATORY 702.2, HI US'),\n",
       " ('KANEOHE 838.1, HI US'),\n",
       " ('KUALOA RANCH HEADQUARTERS 886.9, HI US'),\n",
       " ('MANOA LYON ARBO 785.2, HI US'),\n",
       " ('PEARL CITY, HI US'),\n",
       " ('UPPER WAHIAWA 874.3, HI US'),\n",
       " ('WAIHEE 837.5, HI US'),\n",
       " ('WAIKIKI 717.2, HI US'),\n",
       " ('WAIMANALO EXPERIMENTAL FARM, HI US')]"
      ]
     },
     "execution_count": 12,
     "metadata": {},
     "output_type": "execute_result"
    }
   ],
   "source": [
    "# Check SQL Lite to see if there is data in the tables for station\n",
    "session.query(station.name).group_by(station.name).all()"
   ]
  },
  {
   "cell_type": "code",
   "execution_count": null,
   "metadata": {
    "collapsed": true
   },
   "outputs": [],
   "source": []
  },
  {
   "cell_type": "code",
   "execution_count": null,
   "metadata": {
    "collapsed": true
   },
   "outputs": [],
   "source": []
  },
  {
   "cell_type": "code",
   "execution_count": 18,
   "metadata": {},
   "outputs": [
    {
     "data": {
      "text/html": [
       "<div>\n",
       "<style>\n",
       "    .dataframe thead tr:only-child th {\n",
       "        text-align: right;\n",
       "    }\n",
       "\n",
       "    .dataframe thead th {\n",
       "        text-align: left;\n",
       "    }\n",
       "\n",
       "    .dataframe tbody tr th {\n",
       "        vertical-align: top;\n",
       "    }\n",
       "</style>\n",
       "<table border=\"1\" class=\"dataframe\">\n",
       "  <thead>\n",
       "    <tr style=\"text-align: right;\">\n",
       "      <th></th>\n",
       "      <th>prcp</th>\n",
       "    </tr>\n",
       "    <tr>\n",
       "      <th>month</th>\n",
       "      <th></th>\n",
       "    </tr>\n",
       "  </thead>\n",
       "  <tbody>\n",
       "    <tr>\n",
       "      <th>1</th>\n",
       "      <td>11.95</td>\n",
       "    </tr>\n",
       "    <tr>\n",
       "      <th>2</th>\n",
       "      <td>39.06</td>\n",
       "    </tr>\n",
       "    <tr>\n",
       "      <th>3</th>\n",
       "      <td>29.62</td>\n",
       "    </tr>\n",
       "    <tr>\n",
       "      <th>4</th>\n",
       "      <td>54.91</td>\n",
       "    </tr>\n",
       "    <tr>\n",
       "      <th>5</th>\n",
       "      <td>25.27</td>\n",
       "    </tr>\n",
       "    <tr>\n",
       "      <th>6</th>\n",
       "      <td>20.52</td>\n",
       "    </tr>\n",
       "    <tr>\n",
       "      <th>7</th>\n",
       "      <td>23.72</td>\n",
       "    </tr>\n",
       "    <tr>\n",
       "      <th>8</th>\n",
       "      <td>25.99</td>\n",
       "    </tr>\n",
       "    <tr>\n",
       "      <th>9</th>\n",
       "      <td>49.40</td>\n",
       "    </tr>\n",
       "    <tr>\n",
       "      <th>10</th>\n",
       "      <td>21.77</td>\n",
       "    </tr>\n",
       "    <tr>\n",
       "      <th>11</th>\n",
       "      <td>20.56</td>\n",
       "    </tr>\n",
       "    <tr>\n",
       "      <th>12</th>\n",
       "      <td>35.51</td>\n",
       "    </tr>\n",
       "  </tbody>\n",
       "</table>\n",
       "</div>"
      ],
      "text/plain": [
       "        prcp\n",
       "month       \n",
       "1      11.95\n",
       "2      39.06\n",
       "3      29.62\n",
       "4      54.91\n",
       "5      25.27\n",
       "6      20.52\n",
       "7      23.72\n",
       "8      25.99\n",
       "9      49.40\n",
       "10     21.77\n",
       "11     20.56\n",
       "12     35.51"
      ]
     },
     "execution_count": 18,
     "metadata": {},
     "output_type": "execute_result"
    }
   ],
   "source": [
    "# Precipitation Analysis\n",
    "# Last 12 months of precipitation data\n",
    "pa_results = pd.read_sql(\"SELECT date, prcp FROM measurement WHERE date between '2016-08-23' AND '2017-08-23';\", conn)\n",
    "pa_results['date'] = pd.to_datetime(pa_results['date'])\n",
    "pa_results['month'] = pa_results['date'].dt.month\n",
    "pa_results = pa_results.groupby([\"month\"]).sum()\n",
    "pa_results"
   ]
  },
  {
   "cell_type": "code",
   "execution_count": 20,
   "metadata": {},
   "outputs": [
    {
     "name": "stdout",
     "output_type": "stream",
     "text": [
      "\n"
     ]
    },
    {
     "data": {
      "image/png": "[encoded data removed]",
      "text/plain": [
       "<matplotlib.figure.Figure at 0x25a85d2aef0>"
      ]
     },
     "metadata": {},
     "output_type": "display_data"
    }
   ],
   "source": [
    "# Create bar chart for precipitation analysis\n",
    "pa_results.plot.bar()\n",
    "plt.legend(loc=9, bbox_to_anchor=(.5, -0.2), ncol=2, fontsize=\"large\")\n",
    "plt.xlabel('Date', fontsize=\"large\")\n",
    "plt.ylabel('Precipitation', fontsize=\"large\")\n",
    "#set_major_formatter(dates.DateFormatter('%m.%Y'))\n",
    "print(\"\")\n",
    "plt.title('Precipitation Analysis', fontsize=\"large\")\n",
    "plt.grid()\n",
    "#plt.savefig(\"PrecipitationAnalysis.png\")\n",
    "plt.show()"
   ]
  },
  {
   "cell_type": "code",
   "execution_count": 15,
   "metadata": {
    "collapsed": true
   },
   "outputs": [],
   "source": []
  },
  {
   "cell_type": "code",
   "execution_count": null,
   "metadata": {
    "collapsed": true
   },
   "outputs": [],
   "source": []
  },
  {
   "cell_type": "code",
   "execution_count": 31,
   "metadata": {
    "collapsed": true
   },
   "outputs": [],
   "source": [
    "# Station Analysis\n",
    "# Last 12 months of tobs data\n",
    "sa_results = pd.read_sql(\"SELECT date, station, tobs FROM measurement WHERE date between '2016-08-23' AND '2017-08-23';\", conn)\n",
    "sa_results['date'] = pd.to_datetime(sa_results['date'])\n",
    "#sa_results['month'] = sa_results['date'].dt.month\n",
    "sa_results = sa_results.groupby([\"station\"]).sum()\n"
   ]
  },
  {
   "cell_type": "code",
   "execution_count": 29,
   "metadata": {},
   "outputs": [
    {
     "name": "stdout",
     "output_type": "stream",
     "text": [
      "\n"
     ]
    },
    {
     "data": {
      "image/png": "[encoded data removed]",
      "text/plain": [
       "<matplotlib.figure.Figure at 0x25a8b4e70f0>"
      ]
     },
     "metadata": {},
     "output_type": "display_data"
    }
   ],
   "source": [
    "# Create a histogram chart for temperature analysis\n",
    "sa_results.plot.hist()\n",
    "plt.legend(loc=9, bbox_to_anchor=(.5, -0.2), ncol=2, fontsize=\"large\")\n",
    "plt.xlabel('', fontsize=\"large\")\n",
    "plt.ylabel('Frequency', fontsize=\"large\")\n",
    "print(\"\")\n",
    "plt.title('Temperature Analysis', fontsize=\"large\")\n",
    "plt.grid()\n",
    "plt.show()"
   ]
  },
  {
   "cell_type": "code",
   "execution_count": null,
   "metadata": {
    "collapsed": true
   },
   "outputs": [],
   "source": []
  },
  {
   "cell_type": "code",
   "execution_count": null,
   "metadata": {
    "collapsed": true
   },
   "outputs": [],
   "source": []
  },
  {
   "cell_type": "code",
   "execution_count": null,
   "metadata": {
    "collapsed": true
   },
   "outputs": [],
   "source": [
    "# Temparature Analysis\n",
    "ta_results = pd.read_sql(\"SELECT date, station, tobs FROM measurement WHERE date between '2016-08-23' AND '2017-08-23';\", conn)\n",
    "ta_results['date'] = pd.to_datetime(ta_results['date'])\n",
    "#sa_results['month'] = sa_results['date'].dt.month\n",
    "ta_results = ta_results.groupby([\"station\"]).sum()\n",
    "ta_results"
   ]
  },
  {
   "cell_type": "code",
   "execution_count": null,
   "metadata": {
    "collapsed": true
   },
   "outputs": [],
   "source": [
    "# Create a histogram chart for temperature analysis\n",
    "ta_results.plot.bar()\n",
    "plt.legend(loc=9, bbox_to_anchor=(.5, -0.2), ncol=2, fontsize=\"large\")\n",
    "plt.xlabel('', fontsize=\"large\")\n",
    "plt.ylabel('Temperature (F)', fontsize=\"large\")\n",
    "print(\"\")\n",
    "plt.title('Temperature Analysis', fontsize=\"large\")\n",
    "plt.grid()\n",
    "plt.show()"
   ]
  },
  {
   "cell_type": "code",
   "execution_count": null,
   "metadata": {
    "collapsed": true
   },
   "outputs": [],
   "source": []
  },
  {
   "cell_type": "code",
   "execution_count": 38,
   "metadata": {
    "collapsed": true
   },
   "outputs": [],
   "source": [
    "# Function to return avg temp for data range\n",
    "\n",
    "def calc_temps(startDate, endDate):\n",
    "   avgtobs = session.query(func.avg(measurement.tobs)).filter(and_(measurement.date >= startDate, measurement.date <= endDate))\n",
    "   meanTemp = avgtobs[0][0]\n",
    "   mintobs = session.query(func.min(measurement.tobs)).filter(and_(measurement.date >= startDate, measurement.date <= endDate))\n",
    "   minTemp = mintobs[0][0]\n",
    "   maxtobs = session.query(func.max(measurement.tobs)).filter(and_(measurement.date >= startDate, measurement.date <= endDate))\n",
    "   maxTemp = maxtobs[0][0]\n",
    "   return(meanTemp, minTemp, maxTemp)"
   ]
  },
  {
   "cell_type": "code",
   "execution_count": null,
   "metadata": {},
   "outputs": [],
   "source": []
  },
  {
   "cell_type": "code",
   "execution_count": null,
   "metadata": {},
   "outputs": [],
   "source": []
  },
  {
   "cell_type": "code",
   "execution_count": null,
   "metadata": {
    "collapsed": true
   },
   "outputs": [],
   "source": [
    "# Create a histogram chart for temperature analysis\n",
    "ta_results.plot.bar()\n",
    "plt.legend(loc=9, bbox_to_anchor=(.5, -0.2), ncol=2, fontsize=\"large\")\n",
    "plt.xlabel('', fontsize=\"large\")\n",
    "plt.ylabel('Temperature (F)', fontsize=\"large\")\n",
    "print(\"\")\n",
    "plt.title('Temperature Analysis', fontsize=\"large\")\n",
    "plt.grid()\n",
    "plt.show()"
   ]
  }
 ],
 "metadata": {
  "kernelspec": {
   "display_name": "Python 3",
   "language": "python",
   "name": "python3"
  },
  "language_info": {
   "codemirror_mode": {
    "name": "ipython",
    "version": 3
   },
   "file_extension": ".py",
   "mimetype": "text/x-python",
   "name": "python",
   "nbconvert_exporter": "python",
   "pygments_lexer": "ipython3",
   "version": "3.6.1"
  }
 },
 "nbformat": 4,
 "nbformat_minor": 2
}
