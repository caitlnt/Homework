{
 "cells": [
  {
   "cell_type": "code",
   "execution_count": 1,
   "metadata": {
    "collapsed": true
   },
   "outputs": [],
   "source": [
    "#CTa-HW05-Pyber"
   ]
  },
  {
   "cell_type": "code",
   "execution_count": 2,
   "metadata": {
    "collapsed": true
   },
   "outputs": [],
   "source": [
    "# OBSERVATIONS\n",
    "# 1) Urban has the most rides and drivers followed by suburban and last rural.\n",
    "# 2) The more rides there are the lower the ride fares.\n",
    "# 3) There are more drivers in Urban."
   ]
  },
  {
   "cell_type": "code",
   "execution_count": 3,
   "metadata": {
    "collapsed": true
   },
   "outputs": [],
   "source": [
    "# import libraries to use\n",
    "import pandas as pd\n",
    "import numpy as np\n",
    "import matplotlib.pyplot as plt\n",
    "import seaborn as sns"
   ]
  },
  {
   "cell_type": "code",
   "execution_count": 4,
   "metadata": {
    "collapsed": true
   },
   "outputs": [],
   "source": [
    "# read in files\n",
    "city_data = pd.read_csv('Resources/city_data.csv')\n",
    "\n",
    "ride_data = pd.read_csv('Resources/ride_data.csv')"
   ]
  },
  {
   "cell_type": "code",
   "execution_count": 5,
   "metadata": {},
   "outputs": [
    {
     "data": {
      "text/html": [
       "<div>\n",
       "<style>\n",
       "    .dataframe thead tr:only-child th {\n",
       "        text-align: right;\n",
       "    }\n",
       "\n",
       "    .dataframe thead th {\n",
       "        text-align: left;\n",
       "    }\n",
       "\n",
       "    .dataframe tbody tr th {\n",
       "        vertical-align: top;\n",
       "    }\n",
       "</style>\n",
       "<table border=\"1\" class=\"dataframe\">\n",
       "  <thead>\n",
       "    <tr style=\"text-align: right;\">\n",
       "      <th></th>\n",
       "      <th>city</th>\n",
       "      <th>driver_count</th>\n",
       "      <th>type</th>\n",
       "    </tr>\n",
       "  </thead>\n",
       "  <tbody>\n",
       "    <tr>\n",
       "      <th>0</th>\n",
       "      <td>Alvarezhaven</td>\n",
       "      <td>21</td>\n",
       "      <td>Urban</td>\n",
       "    </tr>\n",
       "    <tr>\n",
       "      <th>1</th>\n",
       "      <td>Alyssaberg</td>\n",
       "      <td>67</td>\n",
       "      <td>Urban</td>\n",
       "    </tr>\n",
       "    <tr>\n",
       "      <th>2</th>\n",
       "      <td>Anitamouth</td>\n",
       "      <td>16</td>\n",
       "      <td>Suburban</td>\n",
       "    </tr>\n",
       "    <tr>\n",
       "      <th>3</th>\n",
       "      <td>Antoniomouth</td>\n",
       "      <td>21</td>\n",
       "      <td>Urban</td>\n",
       "    </tr>\n",
       "    <tr>\n",
       "      <th>4</th>\n",
       "      <td>Aprilchester</td>\n",
       "      <td>49</td>\n",
       "      <td>Urban</td>\n",
       "    </tr>\n",
       "  </tbody>\n",
       "</table>\n",
       "</div>"
      ],
      "text/plain": [
       "           city  driver_count      type\n",
       "0  Alvarezhaven            21     Urban\n",
       "1    Alyssaberg            67     Urban\n",
       "2    Anitamouth            16  Suburban\n",
       "3  Antoniomouth            21     Urban\n",
       "4  Aprilchester            49     Urban"
      ]
     },
     "execution_count": 5,
     "metadata": {},
     "output_type": "execute_result"
    }
   ],
   "source": [
    "# shows first 5 lines in city data\n",
    "city_data.head()"
   ]
  },
  {
   "cell_type": "code",
   "execution_count": 6,
   "metadata": {},
   "outputs": [
    {
     "data": {
      "text/html": [
       "<div>\n",
       "<style>\n",
       "    .dataframe thead tr:only-child th {\n",
       "        text-align: right;\n",
       "    }\n",
       "\n",
       "    .dataframe thead th {\n",
       "        text-align: left;\n",
       "    }\n",
       "\n",
       "    .dataframe tbody tr th {\n",
       "        vertical-align: top;\n",
       "    }\n",
       "</style>\n",
       "<table border=\"1\" class=\"dataframe\">\n",
       "  <thead>\n",
       "    <tr style=\"text-align: right;\">\n",
       "      <th></th>\n",
       "      <th>city</th>\n",
       "      <th>date</th>\n",
       "      <th>fare</th>\n",
       "      <th>ride_id</th>\n",
       "    </tr>\n",
       "  </thead>\n",
       "  <tbody>\n",
       "    <tr>\n",
       "      <th>0</th>\n",
       "      <td>Sarabury</td>\n",
       "      <td>2016-01-16 13:49:27</td>\n",
       "      <td>38.35</td>\n",
       "      <td>5403689035038</td>\n",
       "    </tr>\n",
       "    <tr>\n",
       "      <th>1</th>\n",
       "      <td>South Roy</td>\n",
       "      <td>2016-01-02 18:42:34</td>\n",
       "      <td>17.49</td>\n",
       "      <td>4036272335942</td>\n",
       "    </tr>\n",
       "    <tr>\n",
       "      <th>2</th>\n",
       "      <td>Wiseborough</td>\n",
       "      <td>2016-01-21 17:35:29</td>\n",
       "      <td>44.18</td>\n",
       "      <td>3645042422587</td>\n",
       "    </tr>\n",
       "    <tr>\n",
       "      <th>3</th>\n",
       "      <td>Spencertown</td>\n",
       "      <td>2016-07-31 14:53:22</td>\n",
       "      <td>6.87</td>\n",
       "      <td>2242596575892</td>\n",
       "    </tr>\n",
       "    <tr>\n",
       "      <th>4</th>\n",
       "      <td>Nguyenbury</td>\n",
       "      <td>2016-07-09 04:42:44</td>\n",
       "      <td>6.28</td>\n",
       "      <td>1543057793673</td>\n",
       "    </tr>\n",
       "  </tbody>\n",
       "</table>\n",
       "</div>"
      ],
      "text/plain": [
       "          city                 date   fare        ride_id\n",
       "0     Sarabury  2016-01-16 13:49:27  38.35  5403689035038\n",
       "1    South Roy  2016-01-02 18:42:34  17.49  4036272335942\n",
       "2  Wiseborough  2016-01-21 17:35:29  44.18  3645042422587\n",
       "3  Spencertown  2016-07-31 14:53:22   6.87  2242596575892\n",
       "4   Nguyenbury  2016-07-09 04:42:44   6.28  1543057793673"
      ]
     },
     "execution_count": 6,
     "metadata": {},
     "output_type": "execute_result"
    }
   ],
   "source": [
    "# shows first 5 lines in ride data\n",
    "ride_data.head()"
   ]
  },
  {
   "cell_type": "code",
   "execution_count": 7,
   "metadata": {
    "collapsed": true
   },
   "outputs": [],
   "source": [
    "# Calculates variables\n",
    "\n",
    "avgfare_percity = ride_data.groupby('city').fare.mean()\n",
    "rides_percity = ride_data.groupby('city').ride_id.count()\n",
    "\n",
    "#drivers_percity_type = city_data.groupby('type').driver_count.sum()\n",
    "#drivers_percity_type.head()"
   ]
  },
  {
   "cell_type": "code",
   "execution_count": 8,
   "metadata": {
    "collapsed": true
   },
   "outputs": [],
   "source": [
    "#Create table for 4 key variables, reset index, and rename columns\n",
    "\n",
    "variables = pd.concat([avgfare_percity, rides_percity], axis=1)\n",
    "variables.reset_index(inplace=True)\n",
    "#key_var_summary = key_variables.rename(columns={'city':'city', 'fare':'Fare', 'ride_id': 'Rides', 'driver_count': 'Drivers'})\n",
    "#key_var_summary.head()"
   ]
  },
  {
   "cell_type": "code",
   "execution_count": 9,
   "metadata": {},
   "outputs": [
    {
     "data": {
      "text/html": [
       "<div>\n",
       "<style>\n",
       "    .dataframe thead tr:only-child th {\n",
       "        text-align: right;\n",
       "    }\n",
       "\n",
       "    .dataframe thead th {\n",
       "        text-align: left;\n",
       "    }\n",
       "\n",
       "    .dataframe tbody tr th {\n",
       "        vertical-align: top;\n",
       "    }\n",
       "</style>\n",
       "<table border=\"1\" class=\"dataframe\">\n",
       "  <thead>\n",
       "    <tr style=\"text-align: right;\">\n",
       "      <th></th>\n",
       "      <th>City</th>\n",
       "      <th>Avg_Fare</th>\n",
       "      <th>Rides</th>\n",
       "      <th>Drivers</th>\n",
       "      <th>Type</th>\n",
       "    </tr>\n",
       "  </thead>\n",
       "  <tbody>\n",
       "    <tr>\n",
       "      <th>0</th>\n",
       "      <td>Alvarezhaven</td>\n",
       "      <td>23.928710</td>\n",
       "      <td>31</td>\n",
       "      <td>21</td>\n",
       "      <td>Urban</td>\n",
       "    </tr>\n",
       "    <tr>\n",
       "      <th>1</th>\n",
       "      <td>Alyssaberg</td>\n",
       "      <td>20.609615</td>\n",
       "      <td>26</td>\n",
       "      <td>67</td>\n",
       "      <td>Urban</td>\n",
       "    </tr>\n",
       "    <tr>\n",
       "      <th>2</th>\n",
       "      <td>Anitamouth</td>\n",
       "      <td>37.315556</td>\n",
       "      <td>9</td>\n",
       "      <td>16</td>\n",
       "      <td>Suburban</td>\n",
       "    </tr>\n",
       "    <tr>\n",
       "      <th>3</th>\n",
       "      <td>Antoniomouth</td>\n",
       "      <td>23.625000</td>\n",
       "      <td>22</td>\n",
       "      <td>21</td>\n",
       "      <td>Urban</td>\n",
       "    </tr>\n",
       "    <tr>\n",
       "      <th>4</th>\n",
       "      <td>Aprilchester</td>\n",
       "      <td>21.981579</td>\n",
       "      <td>19</td>\n",
       "      <td>49</td>\n",
       "      <td>Urban</td>\n",
       "    </tr>\n",
       "  </tbody>\n",
       "</table>\n",
       "</div>"
      ],
      "text/plain": [
       "           City   Avg_Fare  Rides  Drivers      Type\n",
       "0  Alvarezhaven  23.928710     31       21     Urban\n",
       "1    Alyssaberg  20.609615     26       67     Urban\n",
       "2    Anitamouth  37.315556      9       16  Suburban\n",
       "3  Antoniomouth  23.625000     22       21     Urban\n",
       "4  Aprilchester  21.981579     19       49     Urban"
      ]
     },
     "execution_count": 9,
     "metadata": {},
     "output_type": "execute_result"
    }
   ],
   "source": [
    "# Combine city/ride data with variables data\n",
    "\n",
    "merged_cityride = pd.merge(variables, city_data, on=\"city\")\n",
    "\n",
    "merged_cityride = merged_cityride.rename(columns={'city':'City', 'fare':'Avg_Fare', 'ride_id': 'Rides', 'driver_count': 'Drivers', \n",
    "                                                  'type': 'Type'})\n",
    "\n",
    "merged_cityride.head()"
   ]
  },
  {
   "cell_type": "code",
   "execution_count": 10,
   "metadata": {},
   "outputs": [
    {
     "data": {
      "text/html": [
       "<div>\n",
       "<style>\n",
       "    .dataframe thead tr:only-child th {\n",
       "        text-align: right;\n",
       "    }\n",
       "\n",
       "    .dataframe thead th {\n",
       "        text-align: left;\n",
       "    }\n",
       "\n",
       "    .dataframe tbody tr th {\n",
       "        vertical-align: top;\n",
       "    }\n",
       "</style>\n",
       "<table border=\"1\" class=\"dataframe\">\n",
       "  <thead>\n",
       "    <tr style=\"text-align: right;\">\n",
       "      <th></th>\n",
       "      <th>City</th>\n",
       "      <th>Avg_Fare</th>\n",
       "      <th>Rides</th>\n",
       "      <th>Drivers</th>\n",
       "      <th>Type</th>\n",
       "    </tr>\n",
       "  </thead>\n",
       "  <tbody>\n",
       "    <tr>\n",
       "      <th>0</th>\n",
       "      <td>Alvarezhaven</td>\n",
       "      <td>23.928710</td>\n",
       "      <td>31</td>\n",
       "      <td>21</td>\n",
       "      <td>Urban</td>\n",
       "    </tr>\n",
       "    <tr>\n",
       "      <th>1</th>\n",
       "      <td>Alyssaberg</td>\n",
       "      <td>20.609615</td>\n",
       "      <td>26</td>\n",
       "      <td>67</td>\n",
       "      <td>Urban</td>\n",
       "    </tr>\n",
       "    <tr>\n",
       "      <th>2</th>\n",
       "      <td>Anitamouth</td>\n",
       "      <td>37.315556</td>\n",
       "      <td>9</td>\n",
       "      <td>16</td>\n",
       "      <td>Suburban</td>\n",
       "    </tr>\n",
       "    <tr>\n",
       "      <th>3</th>\n",
       "      <td>Antoniomouth</td>\n",
       "      <td>23.625000</td>\n",
       "      <td>22</td>\n",
       "      <td>21</td>\n",
       "      <td>Urban</td>\n",
       "    </tr>\n",
       "    <tr>\n",
       "      <th>4</th>\n",
       "      <td>Aprilchester</td>\n",
       "      <td>21.981579</td>\n",
       "      <td>19</td>\n",
       "      <td>49</td>\n",
       "      <td>Urban</td>\n",
       "    </tr>\n",
       "  </tbody>\n",
       "</table>\n",
       "</div>"
      ],
      "text/plain": [
       "           City   Avg_Fare  Rides  Drivers      Type\n",
       "0  Alvarezhaven  23.928710     31       21     Urban\n",
       "1    Alyssaberg  20.609615     26       67     Urban\n",
       "2    Anitamouth  37.315556      9       16  Suburban\n",
       "3  Antoniomouth  23.625000     22       21     Urban\n",
       "4  Aprilchester  21.981579     19       49     Urban"
      ]
     },
     "execution_count": 10,
     "metadata": {},
     "output_type": "execute_result"
    }
   ],
   "source": [
    "# create table for scatter plot\n",
    "cityride_summary = pd.DataFrame(merged_cityride)\n",
    "cityride_summary.head()"
   ]
  },
  {
   "cell_type": "code",
   "execution_count": 11,
   "metadata": {
    "collapsed": true
   },
   "outputs": [],
   "source": [
    "# separate by each type and create 3 separate scatter plot graphs on one graph\n",
    "rural_graph = cityride_summary[cityride_summary[\"Type\"]==\"Rural\"]\n",
    "suburban_graph = cityride_summary[cityride_summary[\"Type\"]==\"Suburban\"]\n",
    "urban_graph = cityride_summary[cityride_summary[\"Type\"]==\"Urban\"]"
   ]
  },
  {
   "cell_type": "code",
   "execution_count": 30,
   "metadata": {},
   "outputs": [
    {
     "name": "stdout",
     "output_type": "stream",
     "text": [
      "\n"
     ]
    },
    {
     "data": {
      "image/png": "[encoded data removed]",
      "text/plain": [
       "<matplotlib.figure.Figure at 0x21a319a5b70>"
      ]
     },
     "metadata": {},
     "output_type": "display_data"
    }
   ],
   "source": [
    "# plot all three graphs on one graph\n",
    "\n",
    "plt.figure(figsize=(10,10))\n",
    "rural = plt.scatter(rural_graph['Rides'],rural_graph['Avg_Fare'], c='gold', s=20 *\n",
    "rural_graph['Drivers'],edgecolors='Black', alpha = 0.8, label='Rural')\n",
    "\n",
    "suburban = plt.scatter(suburban_graph['Rides'],suburban_graph['Avg_Fare'], c='lightskyblue', s=20 *\n",
    "suburban_graph['Drivers'],edgecolors='Black', alpha = 0.8, label='Suburban')\n",
    "\n",
    "urban = plt.scatter(urban_graph['Rides'],urban_graph['Avg_Fare'], c='lightcoral', s=20 *\n",
    "urban_graph['Drivers'],edgecolors='Black', alpha = 0.8, label='Urban')\n",
    "\n",
    "plt.ylim(15, 55)\n",
    "plt.xlim(0, 40)\n",
    "\n",
    "plt.xlabel(\"Rides\")\n",
    "plt.ylabel(\"Average Fares ($)\")\n",
    "\n",
    "plt.legend()\n",
    "\n",
    "# Prints our scatter plot graph to the screen\n",
    "print(\"\")\n",
    "plt.title(\"Pyber Ride Sharing Data - 2016\")\n",
    "plt.show()\n"
   ]
  },
  {
   "cell_type": "code",
   "execution_count": null,
   "metadata": {
    "collapsed": true
   },
   "outputs": [],
   "source": []
  },
  {
   "cell_type": "code",
   "execution_count": null,
   "metadata": {
    "collapsed": true
   },
   "outputs": [],
   "source": []
  },
  {
   "cell_type": "code",
   "execution_count": 13,
   "metadata": {},
   "outputs": [
    {
     "data": {
      "text/html": [
       "<div>\n",
       "<style>\n",
       "    .dataframe thead tr:only-child th {\n",
       "        text-align: right;\n",
       "    }\n",
       "\n",
       "    .dataframe thead th {\n",
       "        text-align: left;\n",
       "    }\n",
       "\n",
       "    .dataframe tbody tr th {\n",
       "        vertical-align: top;\n",
       "    }\n",
       "</style>\n",
       "<table border=\"1\" class=\"dataframe\">\n",
       "  <thead>\n",
       "    <tr style=\"text-align: right;\">\n",
       "      <th></th>\n",
       "      <th>City</th>\n",
       "      <th>Date</th>\n",
       "      <th>Fare</th>\n",
       "      <th>Ride_ID</th>\n",
       "      <th>Drivers</th>\n",
       "      <th>Type</th>\n",
       "    </tr>\n",
       "  </thead>\n",
       "  <tbody>\n",
       "    <tr>\n",
       "      <th>0</th>\n",
       "      <td>Sarabury</td>\n",
       "      <td>2016-01-16 13:49:27</td>\n",
       "      <td>38.35</td>\n",
       "      <td>5403689035038</td>\n",
       "      <td>46</td>\n",
       "      <td>Urban</td>\n",
       "    </tr>\n",
       "    <tr>\n",
       "      <th>1</th>\n",
       "      <td>Sarabury</td>\n",
       "      <td>2016-07-23 07:42:44</td>\n",
       "      <td>21.76</td>\n",
       "      <td>7546681945283</td>\n",
       "      <td>46</td>\n",
       "      <td>Urban</td>\n",
       "    </tr>\n",
       "    <tr>\n",
       "      <th>2</th>\n",
       "      <td>Sarabury</td>\n",
       "      <td>2016-04-02 04:32:25</td>\n",
       "      <td>38.03</td>\n",
       "      <td>4932495851866</td>\n",
       "      <td>46</td>\n",
       "      <td>Urban</td>\n",
       "    </tr>\n",
       "    <tr>\n",
       "      <th>3</th>\n",
       "      <td>Sarabury</td>\n",
       "      <td>2016-06-23 05:03:41</td>\n",
       "      <td>26.82</td>\n",
       "      <td>6711035373406</td>\n",
       "      <td>46</td>\n",
       "      <td>Urban</td>\n",
       "    </tr>\n",
       "    <tr>\n",
       "      <th>4</th>\n",
       "      <td>Sarabury</td>\n",
       "      <td>2016-09-30 12:48:34</td>\n",
       "      <td>30.30</td>\n",
       "      <td>6388737278232</td>\n",
       "      <td>46</td>\n",
       "      <td>Urban</td>\n",
       "    </tr>\n",
       "  </tbody>\n",
       "</table>\n",
       "</div>"
      ],
      "text/plain": [
       "       City                 Date   Fare        Ride_ID  Drivers   Type\n",
       "0  Sarabury  2016-01-16 13:49:27  38.35  5403689035038       46  Urban\n",
       "1  Sarabury  2016-07-23 07:42:44  21.76  7546681945283       46  Urban\n",
       "2  Sarabury  2016-04-02 04:32:25  38.03  4932495851866       46  Urban\n",
       "3  Sarabury  2016-06-23 05:03:41  26.82  6711035373406       46  Urban\n",
       "4  Sarabury  2016-09-30 12:48:34  30.30  6388737278232       46  Urban"
      ]
     },
     "execution_count": 13,
     "metadata": {},
     "output_type": "execute_result"
    }
   ],
   "source": [
    "# Combine city/ride data to calculate total fares by city\n",
    "\n",
    "merged_ride = pd.merge(ride_data, city_data, on=\"city\")\n",
    "\n",
    "merged_ride = merged_ride.rename(columns={'city':'City', 'date':'Date', 'fare':'Fare', 'ride_id': 'Ride_ID', \n",
    "                                          'driver_count': 'Drivers', 'type': 'Type'})\n",
    "\n",
    "merged_ride.head()"
   ]
  },
  {
   "cell_type": "code",
   "execution_count": 14,
   "metadata": {
    "collapsed": true
   },
   "outputs": [],
   "source": [
    "# % of Total Fares by City Type Pie Chart\n",
    "\n",
    "# total fares by city type\n",
    "rural_fares = merged_ride[merged_ride[\"Type\"]==\"Rural\"].sum()[\"Fare\"]\n",
    "suburban_fares = merged_ride[merged_ride[\"Type\"]==\"Suburban\"].sum()[\"Fare\"]\n",
    "urban_fares = merged_ride[merged_ride[\"Type\"]==\"Urban\"].sum()[\"Fare\"]\n",
    "total_fares = merged_ride.sum()[\"Fare\"]\n",
    "\n",
    "\n",
    "# % of fares by city type\n",
    "rural_fares_percent =(rural_fares/total_fares)*100\n",
    "suburban_fares_percent =(suburban_fares/total_fares)*100\n",
    "urban_fares_percent =(urban_fares/total_fares)*100"
   ]
  },
  {
   "cell_type": "code",
   "execution_count": 15,
   "metadata": {
    "collapsed": true
   },
   "outputs": [],
   "source": [
    "# Create table for fares\n",
    "fares_summary = pd.DataFrame({'Rural_Fares_%': [rural_fares_percent],'Suburban_Fares_%': [suburban_fares_percent], \n",
    "                                 'Urban_Fares_%': [urban_fares_percent]\n",
    "                                })\n",
    "\n",
    "fares_summary = fares_summary.round(2)"
   ]
  },
  {
   "cell_type": "code",
   "execution_count": 16,
   "metadata": {},
   "outputs": [
    {
     "data": {
      "text/html": [
       "<div>\n",
       "<style>\n",
       "    .dataframe thead tr:only-child th {\n",
       "        text-align: right;\n",
       "    }\n",
       "\n",
       "    .dataframe thead th {\n",
       "        text-align: left;\n",
       "    }\n",
       "\n",
       "    .dataframe tbody tr th {\n",
       "        vertical-align: top;\n",
       "    }\n",
       "</style>\n",
       "<table border=\"1\" class=\"dataframe\">\n",
       "  <thead>\n",
       "    <tr style=\"text-align: right;\">\n",
       "      <th></th>\n",
       "      <th>Rural_Fares_%</th>\n",
       "      <th>Suburban_Fares_%</th>\n",
       "      <th>Urban_Fares_%</th>\n",
       "    </tr>\n",
       "  </thead>\n",
       "  <tbody>\n",
       "    <tr>\n",
       "      <th>0</th>\n",
       "      <td>6.68</td>\n",
       "      <td>30.35</td>\n",
       "      <td>62.97</td>\n",
       "    </tr>\n",
       "  </tbody>\n",
       "</table>\n",
       "</div>"
      ],
      "text/plain": [
       "   Rural_Fares_%  Suburban_Fares_%  Urban_Fares_%\n",
       "0           6.68             30.35          62.97"
      ]
     },
     "execution_count": 16,
     "metadata": {},
     "output_type": "execute_result"
    }
   ],
   "source": [
    "# Display fares table\n",
    "fares_summary "
   ]
  },
  {
   "cell_type": "code",
   "execution_count": 17,
   "metadata": {},
   "outputs": [
    {
     "name": "stdout",
     "output_type": "stream",
     "text": [
      "\n"
     ]
    },
    {
     "data": {
      "image/png": "[encoded data removed]",
      "text/plain": [
       "<matplotlib.figure.Figure at 0x21a300964a8>"
      ]
     },
     "metadata": {},
     "output_type": "display_data"
    }
   ],
   "source": [
    "# % of Total Fares by City Type Pie Chart\n",
    "\n",
    "# Labels for the sections of our pie chart\n",
    "labels = [\"Rural\", \"Suburban\", \"Urban\"]\n",
    "\n",
    "# The values of each section of the pie chart\n",
    "sizes = [6.68, 30.35, 62.97]\n",
    "\n",
    "# The colors of each section of the pie chart\n",
    "colors = [\"gold\", \"lightskyblue\", \"lightcoral\"]\n",
    "\n",
    "# Tells matplotlib to seperate the \"Urban\" section from the others\n",
    "explode = (0, 0, 0.1)\n",
    "\n",
    "\n",
    "# Creates the pie chart based upon the values above\n",
    "# Automatically finds the percentages of each part of the pie chart\n",
    "plt.pie(sizes, explode=explode, labels=labels, colors=colors,\n",
    "        autopct=\"%1.1f%%\", shadow=True, startangle=140)\n",
    "\n",
    "\n",
    "# Tells matplotlib that we want a pie chart with equal axes\n",
    "plt.axis(\"equal\")\n",
    "\n",
    "\n",
    "# Prints our pie chart to the screen\n",
    "print(\"\")\n",
    "plt.title(\"% of Total Fares by City Type\")\n",
    "plt.show()\n"
   ]
  },
  {
   "cell_type": "code",
   "execution_count": null,
   "metadata": {
    "collapsed": true
   },
   "outputs": [],
   "source": []
  },
  {
   "cell_type": "code",
   "execution_count": null,
   "metadata": {
    "collapsed": true
   },
   "outputs": [],
   "source": []
  },
  {
   "cell_type": "code",
   "execution_count": 18,
   "metadata": {
    "collapsed": true
   },
   "outputs": [],
   "source": [
    "# % of Total Rides by City Type Pie Chart\n",
    "\n",
    "# total rides by city type\n",
    "rural_rides = merged_ride[merged_ride[\"Type\"]==\"Rural\"].count()[\"Ride_ID\"]\n",
    "suburban_rides = merged_ride[merged_ride[\"Type\"]==\"Suburban\"].count()[\"Ride_ID\"]\n",
    "urban_rides = merged_ride[merged_ride[\"Type\"]==\"Urban\"].count()[\"Ride_ID\"]\n",
    "total_rides = merged_ride.count()[\"Ride_ID\"]\n",
    "\n",
    "\n",
    "# % of rides by city type\n",
    "rural_rides_percent =(rural_rides/total_rides)*100\n",
    "suburban_rides_percent =(suburban_rides/total_rides)*100\n",
    "urban_rides_percent =(urban_rides/total_rides)*100"
   ]
  },
  {
   "cell_type": "code",
   "execution_count": 19,
   "metadata": {
    "collapsed": true
   },
   "outputs": [],
   "source": [
    "# Create table for rides\n",
    "rides_summary = pd.DataFrame({'Rural_Rides_%': [rural_rides_percent],'Suburban_Rides_%': [suburban_rides_percent], \n",
    "                                 'Urban_Rides_%': [urban_rides_percent]\n",
    "                                })\n",
    "\n",
    "rides_summary = rides_summary.round(2)"
   ]
  },
  {
   "cell_type": "code",
   "execution_count": 20,
   "metadata": {},
   "outputs": [
    {
     "data": {
      "text/html": [
       "<div>\n",
       "<style>\n",
       "    .dataframe thead tr:only-child th {\n",
       "        text-align: right;\n",
       "    }\n",
       "\n",
       "    .dataframe thead th {\n",
       "        text-align: left;\n",
       "    }\n",
       "\n",
       "    .dataframe tbody tr th {\n",
       "        vertical-align: top;\n",
       "    }\n",
       "</style>\n",
       "<table border=\"1\" class=\"dataframe\">\n",
       "  <thead>\n",
       "    <tr style=\"text-align: right;\">\n",
       "      <th></th>\n",
       "      <th>Rural_Rides_%</th>\n",
       "      <th>Suburban_Rides_%</th>\n",
       "      <th>Urban_Rides_%</th>\n",
       "    </tr>\n",
       "  </thead>\n",
       "  <tbody>\n",
       "    <tr>\n",
       "      <th>0</th>\n",
       "      <td>5.26</td>\n",
       "      <td>26.32</td>\n",
       "      <td>68.42</td>\n",
       "    </tr>\n",
       "  </tbody>\n",
       "</table>\n",
       "</div>"
      ],
      "text/plain": [
       "   Rural_Rides_%  Suburban_Rides_%  Urban_Rides_%\n",
       "0           5.26             26.32          68.42"
      ]
     },
     "execution_count": 20,
     "metadata": {},
     "output_type": "execute_result"
    }
   ],
   "source": [
    "# Display table for rides\n",
    "rides_summary"
   ]
  },
  {
   "cell_type": "code",
   "execution_count": 21,
   "metadata": {},
   "outputs": [
    {
     "name": "stdout",
     "output_type": "stream",
     "text": [
      "\n"
     ]
    },
    {
     "data": {
      "image/png": "[encoded data removed]",
      "text/plain": [
       "<matplotlib.figure.Figure at 0x21a31367908>"
      ]
     },
     "metadata": {},
     "output_type": "display_data"
    }
   ],
   "source": [
    "# % of Total Rides by City Type Pie Chart\n",
    "\n",
    "# Labels for the sections of our pie chart\n",
    "labels = [\"Rural\", \"Suburban\", \"Urban\"]\n",
    "\n",
    "# The values of each section of the pie chart\n",
    "sizes = [5.26, 26.32, 68.42]\n",
    "\n",
    "# The colors of each section of the pie chart\n",
    "colors = [\"gold\", \"lightskyblue\", \"lightcoral\"]\n",
    "\n",
    "# Tells matplotlib to seperate the \"Urban\" section from the others\n",
    "explode = (0.1, 0.1, 0.1)\n",
    "\n",
    "\n",
    "# Creates the pie chart based upon the values above\n",
    "# Automatically finds the percentages of each part of the pie chart\n",
    "plt.pie(sizes, explode=explode, labels=labels, colors=colors,\n",
    "        autopct=\"%1.1f%%\", shadow=True, startangle=140)\n",
    "\n",
    "\n",
    "# Tells matplotlib that we want a pie chart with equal axes\n",
    "plt.axis(\"equal\")\n",
    "\n",
    "\n",
    "# Prints our pie chart to the screen\n",
    "print(\"\")\n",
    "plt.title(\"% of Total Rides by City Type\")\n",
    "plt.show()"
   ]
  },
  {
   "cell_type": "code",
   "execution_count": null,
   "metadata": {
    "collapsed": true
   },
   "outputs": [],
   "source": []
  },
  {
   "cell_type": "code",
   "execution_count": null,
   "metadata": {
    "collapsed": true
   },
   "outputs": [],
   "source": []
  },
  {
   "cell_type": "code",
   "execution_count": 22,
   "metadata": {},
   "outputs": [
    {
     "data": {
      "text/html": [
       "<div>\n",
       "<style>\n",
       "    .dataframe thead tr:only-child th {\n",
       "        text-align: right;\n",
       "    }\n",
       "\n",
       "    .dataframe thead th {\n",
       "        text-align: left;\n",
       "    }\n",
       "\n",
       "    .dataframe tbody tr th {\n",
       "        vertical-align: top;\n",
       "    }\n",
       "</style>\n",
       "<table border=\"1\" class=\"dataframe\">\n",
       "  <thead>\n",
       "    <tr style=\"text-align: right;\">\n",
       "      <th></th>\n",
       "      <th>city</th>\n",
       "      <th>driver_count</th>\n",
       "      <th>type</th>\n",
       "    </tr>\n",
       "  </thead>\n",
       "  <tbody>\n",
       "    <tr>\n",
       "      <th>0</th>\n",
       "      <td>Alvarezhaven</td>\n",
       "      <td>21</td>\n",
       "      <td>Urban</td>\n",
       "    </tr>\n",
       "    <tr>\n",
       "      <th>1</th>\n",
       "      <td>Alyssaberg</td>\n",
       "      <td>67</td>\n",
       "      <td>Urban</td>\n",
       "    </tr>\n",
       "    <tr>\n",
       "      <th>2</th>\n",
       "      <td>Anitamouth</td>\n",
       "      <td>16</td>\n",
       "      <td>Suburban</td>\n",
       "    </tr>\n",
       "    <tr>\n",
       "      <th>3</th>\n",
       "      <td>Antoniomouth</td>\n",
       "      <td>21</td>\n",
       "      <td>Urban</td>\n",
       "    </tr>\n",
       "    <tr>\n",
       "      <th>4</th>\n",
       "      <td>Aprilchester</td>\n",
       "      <td>49</td>\n",
       "      <td>Urban</td>\n",
       "    </tr>\n",
       "  </tbody>\n",
       "</table>\n",
       "</div>"
      ],
      "text/plain": [
       "           city  driver_count      type\n",
       "0  Alvarezhaven            21     Urban\n",
       "1    Alyssaberg            67     Urban\n",
       "2    Anitamouth            16  Suburban\n",
       "3  Antoniomouth            21     Urban\n",
       "4  Aprilchester            49     Urban"
      ]
     },
     "execution_count": 22,
     "metadata": {},
     "output_type": "execute_result"
    }
   ],
   "source": [
    "# Drivers by City type\n",
    "\n",
    "drivers_percity = city_data\n",
    "\n",
    "drivers_percity.head()\n",
    "\n"
   ]
  },
  {
   "cell_type": "code",
   "execution_count": 23,
   "metadata": {},
   "outputs": [
    {
     "data": {
      "text/html": [
       "<div>\n",
       "<style>\n",
       "    .dataframe thead tr:only-child th {\n",
       "        text-align: right;\n",
       "    }\n",
       "\n",
       "    .dataframe thead th {\n",
       "        text-align: left;\n",
       "    }\n",
       "\n",
       "    .dataframe tbody tr th {\n",
       "        vertical-align: top;\n",
       "    }\n",
       "</style>\n",
       "<table border=\"1\" class=\"dataframe\">\n",
       "  <thead>\n",
       "    <tr style=\"text-align: right;\">\n",
       "      <th></th>\n",
       "      <th>City</th>\n",
       "      <th>Drivers</th>\n",
       "      <th>Type</th>\n",
       "    </tr>\n",
       "  </thead>\n",
       "  <tbody>\n",
       "    <tr>\n",
       "      <th>0</th>\n",
       "      <td>Alvarezhaven</td>\n",
       "      <td>21</td>\n",
       "      <td>Urban</td>\n",
       "    </tr>\n",
       "    <tr>\n",
       "      <th>1</th>\n",
       "      <td>Alyssaberg</td>\n",
       "      <td>67</td>\n",
       "      <td>Urban</td>\n",
       "    </tr>\n",
       "    <tr>\n",
       "      <th>2</th>\n",
       "      <td>Anitamouth</td>\n",
       "      <td>16</td>\n",
       "      <td>Suburban</td>\n",
       "    </tr>\n",
       "    <tr>\n",
       "      <th>3</th>\n",
       "      <td>Antoniomouth</td>\n",
       "      <td>21</td>\n",
       "      <td>Urban</td>\n",
       "    </tr>\n",
       "    <tr>\n",
       "      <th>4</th>\n",
       "      <td>Aprilchester</td>\n",
       "      <td>49</td>\n",
       "      <td>Urban</td>\n",
       "    </tr>\n",
       "  </tbody>\n",
       "</table>\n",
       "</div>"
      ],
      "text/plain": [
       "           City  Drivers      Type\n",
       "0  Alvarezhaven       21     Urban\n",
       "1    Alyssaberg       67     Urban\n",
       "2    Anitamouth       16  Suburban\n",
       "3  Antoniomouth       21     Urban\n",
       "4  Aprilchester       49     Urban"
      ]
     },
     "execution_count": 23,
     "metadata": {},
     "output_type": "execute_result"
    }
   ],
   "source": [
    "# rename columns\n",
    "drivers_percity = drivers_percity.rename(columns={'city':'City', 'driver_count': 'Drivers', 'type': 'Type'})\n",
    "\n",
    "drivers_percity.head()"
   ]
  },
  {
   "cell_type": "code",
   "execution_count": 24,
   "metadata": {
    "collapsed": true
   },
   "outputs": [],
   "source": [
    "# % of Total Drivers by City Type Pie Chart\n",
    "\n",
    "# total fares by city type\n",
    "rural_drivers = drivers_percity[drivers_percity[\"Type\"]==\"Rural\"].sum()[\"Drivers\"]\n",
    "suburban_drivers = drivers_percity[drivers_percity[\"Type\"]==\"Suburban\"].sum()[\"Drivers\"]\n",
    "urban_drivers = drivers_percity[drivers_percity[\"Type\"]==\"Urban\"].sum()[\"Drivers\"]\n",
    "total_drivers = drivers_percity.sum()[\"Drivers\"]\n",
    "\n",
    "\n",
    "# % of fares by city type\n",
    "rural_drivers_percent =(rural_drivers/total_drivers)*100\n",
    "suburban_drivers_percent =(suburban_drivers/total_drivers)*100\n",
    "urban_drivers_percent =(urban_drivers/total_drivers)*100"
   ]
  },
  {
   "cell_type": "code",
   "execution_count": 25,
   "metadata": {
    "collapsed": true
   },
   "outputs": [],
   "source": [
    "# Create table for drivers\n",
    "drivers_summary = pd.DataFrame({'Rural_Drivers_%': [rural_drivers_percent],'Suburban_Drivers_%': [suburban_drivers_percent], \n",
    "                                 'Urban_Drivers_%': [urban_drivers_percent]\n",
    "                                })\n",
    "\n",
    "drivers_summary =drivers_summary.round(2)"
   ]
  },
  {
   "cell_type": "code",
   "execution_count": 26,
   "metadata": {},
   "outputs": [
    {
     "data": {
      "text/html": [
       "<div>\n",
       "<style>\n",
       "    .dataframe thead tr:only-child th {\n",
       "        text-align: right;\n",
       "    }\n",
       "\n",
       "    .dataframe thead th {\n",
       "        text-align: left;\n",
       "    }\n",
       "\n",
       "    .dataframe tbody tr th {\n",
       "        vertical-align: top;\n",
       "    }\n",
       "</style>\n",
       "<table border=\"1\" class=\"dataframe\">\n",
       "  <thead>\n",
       "    <tr style=\"text-align: right;\">\n",
       "      <th></th>\n",
       "      <th>Rural_Drivers_%</th>\n",
       "      <th>Suburban_Drivers_%</th>\n",
       "      <th>Urban_Drivers_%</th>\n",
       "    </tr>\n",
       "  </thead>\n",
       "  <tbody>\n",
       "    <tr>\n",
       "      <th>0</th>\n",
       "      <td>3.11</td>\n",
       "      <td>19.05</td>\n",
       "      <td>77.84</td>\n",
       "    </tr>\n",
       "  </tbody>\n",
       "</table>\n",
       "</div>"
      ],
      "text/plain": [
       "   Rural_Drivers_%  Suburban_Drivers_%  Urban_Drivers_%\n",
       "0             3.11               19.05            77.84"
      ]
     },
     "execution_count": 26,
     "metadata": {},
     "output_type": "execute_result"
    }
   ],
   "source": [
    "# Display table for drivers\n",
    "drivers_summary"
   ]
  },
  {
   "cell_type": "code",
   "execution_count": 27,
   "metadata": {},
   "outputs": [
    {
     "name": "stdout",
     "output_type": "stream",
     "text": [
      "\n"
     ]
    },
    {
     "data": {
      "image/png": "[encoded data removed]",
      "text/plain": [
       "<matplotlib.figure.Figure at 0x21a3160f908>"
      ]
     },
     "metadata": {},
     "output_type": "display_data"
    }
   ],
   "source": [
    "# % of Total Drivers by City Type Pie Chart\n",
    "\n",
    "# Labels for the sections of our pie chart\n",
    "labels = [\"Rural\", \"Suburban\", \"Urban\"]\n",
    "\n",
    "# The values of each section of the pie chart\n",
    "sizes = [3.11, 19.05, 77.84]\n",
    "\n",
    "# The colors of each section of the pie chart\n",
    "colors = [\"gold\", \"lightskyblue\", \"lightcoral\"]\n",
    "\n",
    "# Tells matplotlib to seperate the \"Urban\" section from the others\n",
    "explode = (0, 0.1, 0.2)\n",
    "\n",
    "\n",
    "# Creates the pie chart based upon the values above\n",
    "# Automatically finds the percentages of each part of the pie chart\n",
    "plt.pie(sizes, explode=explode, labels=labels, colors=colors,\n",
    "        autopct=\"%1.1f%%\", shadow=False, startangle=100)\n",
    "\n",
    "\n",
    "# Tells matplotlib that we want a pie chart with equal axes\n",
    "plt.axis(\"equal\")\n",
    "\n",
    "\n",
    "# Prints our pie chart to the screen\n",
    "print(\"\")\n",
    "plt.title(\"% of Total Drivers by City Type\")\n",
    "plt.show()"
   ]
  },
  {
   "cell_type": "code",
   "execution_count": null,
   "metadata": {
    "collapsed": true
   },
   "outputs": [],
   "source": []
  },
  {
   "cell_type": "code",
   "execution_count": null,
   "metadata": {
    "collapsed": true
   },
   "outputs": [],
   "source": []
  }
 ],
 "metadata": {
  "kernelspec": {
   "display_name": "Python 3",
   "language": "python",
   "name": "python3"
  },
  "language_info": {
   "codemirror_mode": {
    "name": "ipython",
    "version": 3
   },
   "file_extension": ".py",
   "mimetype": "text/x-python",
   "name": "python",
   "nbconvert_exporter": "python",
   "pygments_lexer": "ipython3",
   "version": "3.6.1"
  }
 },
 "nbformat": 4,
 "nbformat_minor": 2
}
